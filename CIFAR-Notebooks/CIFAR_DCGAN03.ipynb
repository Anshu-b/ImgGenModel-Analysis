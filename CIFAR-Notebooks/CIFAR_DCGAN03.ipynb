{
  "cells": [
    {
      "cell_type": "markdown",
      "metadata": {
        "id": "nLXwZ1zV4ws0"
      },
      "source": [
        "# DCGAN / RMSprop Optimizer, BCELogits Loss"
      ]
    },
    {
      "cell_type": "code",
      "execution_count": null,
      "metadata": {
        "colab": {
          "base_uri": "https://localhost:8080/"
        },
        "id": "8d5NXbcf_iEt",
        "outputId": "3092c1cf-e235-4fe1-9d10-2418f7aa10f0"
      },
      "outputs": [],
      "source": [
        "!pip install torch torchvision matplotlib tqdm --quiet"
      ]
    },
    {
      "cell_type": "code",
      "execution_count": null,
      "metadata": {
        "colab": {
          "base_uri": "https://localhost:8080/"
        },
        "id": "jnOAHnAAHrOj",
        "outputId": "1f33c3d6-509c-4562-8ef6-b0c3ff23725c"
      },
      "outputs": [],
      "source": [
        "from google.colab import drive\n",
        "drive.mount('/content/drive')"
      ]
    },
    {
      "cell_type": "code",
      "execution_count": 4,
      "metadata": {
        "id": "kPAtjeZmIBRX"
      },
      "outputs": [],
      "source": [
        "base_dir = \"/content/drive/MyDrive/Cogs185/CIFAR-DCGAN-3\"\n",
        "#os.makedirs(base_dir, exist_ok=True)"
      ]
    },
    {
      "cell_type": "code",
      "execution_count": 5,
      "metadata": {
        "id": "tSrmNo4p_rwE"
      },
      "outputs": [],
      "source": [
        "import torch\n",
        "import torch.nn as nn\n",
        "import torch.nn.functional as F\n",
        "import torch.optim as optim\n",
        "from torchvision import datasets, transforms\n",
        "from torch.utils.data import Dataset, DataLoader, Subset\n",
        "import torchvision.utils as vutils\n",
        "import numpy as np\n",
        "import os\n",
        "from tqdm import tqdm\n",
        "from PIL import Image\n",
        "from torch.nn.utils import spectral_norm"
      ]
    },
    {
      "cell_type": "code",
      "execution_count": 6,
      "metadata": {
        "id": "El9hIKZv__oc"
      },
      "outputs": [],
      "source": [
        "def one_hot(labels, num_classes=3):\n",
        "    return F.one_hot(labels, num_classes).float()"
      ]
    },
    {
      "cell_type": "code",
      "execution_count": 7,
      "metadata": {
        "id": "ZI_9nXkwB8us"
      },
      "outputs": [],
      "source": [
        "class ConditionalGenerator(nn.Module):\n",
        "    def __init__(self, z_dim=100, num_classes=3, img_channels=3, feature_maps=128):\n",
        "        super().__init__()\n",
        "        self.input_dim = z_dim + num_classes\n",
        "\n",
        "        self.gen = nn.Sequential(\n",
        "            nn.ConvTranspose2d(self.input_dim, feature_maps * 8, 4, 1, 0, bias=False),\n",
        "            nn.BatchNorm2d(feature_maps * 8),\n",
        "            nn.ReLU(True),\n",
        "\n",
        "            nn.ConvTranspose2d(feature_maps * 8, feature_maps * 4, 4, 2, 1, bias=False),\n",
        "            nn.BatchNorm2d(feature_maps * 4),\n",
        "            nn.ReLU(True),\n",
        "\n",
        "            nn.ConvTranspose2d(feature_maps * 4, feature_maps * 2, 4, 2, 1, bias=False),\n",
        "            nn.BatchNorm2d(feature_maps * 2),\n",
        "            nn.ReLU(True),\n",
        "\n",
        "            nn.ConvTranspose2d(feature_maps * 2, feature_maps, 4, 2, 1, bias=False),\n",
        "            nn.BatchNorm2d(feature_maps),\n",
        "            nn.ReLU(True),\n",
        "\n",
        "            nn.ConvTranspose2d(feature_maps, img_channels, 4, 2, 1, bias=False),\n",
        "            nn.Tanh()\n",
        "        )\n",
        "\n",
        "    def forward(self, z, labels):\n",
        "        one_hot_labels = one_hot(labels, 3).to(z.device)\n",
        "        x = torch.cat([z, one_hot_labels], dim=1)\n",
        "        x = x.view(x.size(0), -1, 1, 1)\n",
        "        return self.gen(x)"
      ]
    },
    {
      "cell_type": "code",
      "execution_count": 12,
      "metadata": {
        "id": "g8sdiTZWB-A0"
      },
      "outputs": [],
      "source": [
        "class ConditionalDiscriminator(nn.Module):\n",
        "    def __init__(self, img_channels=3, num_classes=3, feature_maps=128):\n",
        "        super().__init__()\n",
        "        self.label_embed = nn.Embedding(num_classes, num_classes)\n",
        "\n",
        "        self.disc = nn.Sequential(\n",
        "            spectral_norm(nn.Conv2d(img_channels + num_classes, feature_maps, 4, 2, 1)),\n",
        "            nn.LeakyReLU(0.2),\n",
        "\n",
        "            spectral_norm(nn.Conv2d(feature_maps, feature_maps * 2, 4, 2, 1)),\n",
        "            nn.LeakyReLU(0.2),\n",
        "\n",
        "            spectral_norm(nn.Conv2d(feature_maps * 2, feature_maps * 4, 4, 2, 1)),\n",
        "            nn.LeakyReLU(0.2),\n",
        "\n",
        "            spectral_norm(nn.Conv2d(feature_maps * 4, 1, 4, 2, 1)),\n",
        "            nn.AdaptiveAvgPool2d(1),\n",
        "            nn.Flatten()\n",
        "        )\n",
        "\n",
        "    def forward(self, x, labels):\n",
        "        label_map = self.label_embed(labels).unsqueeze(2).unsqueeze(3)\n",
        "        label_map = label_map.expand(-1, -1, x.size(2), x.size(3))\n",
        "        x = torch.cat([x, label_map], dim=1)\n",
        "        return self.disc(x)"
      ]
    },
    {
      "cell_type": "code",
      "execution_count": 13,
      "metadata": {
        "id": "INPTiGIJB_yt"
      },
      "outputs": [],
      "source": [
        "transform = transforms.Compose([\n",
        "    transforms.Resize(64),\n",
        "    transforms.ToTensor(),\n",
        "    transforms.Normalize((0.5,), (0.5,))\n",
        "])\n",
        "\n",
        "wanted_labels = [0, 1, 9]\n",
        "label_map = {0: 0, 1: 1, 9: 2}\n",
        "\n",
        "raw_data = datasets.CIFAR10(root=\"./data\", download=True, transform=transform)\n",
        "filtered_indices = [i for i, (_, label) in enumerate(raw_data) if label in wanted_labels]\n",
        "\n",
        "class RelabeledCIFAR(Dataset):\n",
        "    def __init__(self, base, indices):\n",
        "        self.data = Subset(base, indices)\n",
        "        self.targets = []\n",
        "        for i in indices:\n",
        "            original_label = base.targets[i]\n",
        "            self.targets.append(label_map[original_label])\n",
        "\n",
        "    def __len__(self):\n",
        "        return len(self.targets)\n",
        "\n",
        "    def __getitem__(self, idx):\n",
        "        img, _ = self.data[idx]\n",
        "        return img, torch.tensor(self.targets[idx])\n",
        "\n",
        "train_loader = DataLoader(RelabeledCIFAR(raw_data, filtered_indices), batch_size=128, shuffle=True)"
      ]
    },
    {
      "cell_type": "code",
      "execution_count": 14,
      "metadata": {
        "id": "VS3WIzVzCCJ7"
      },
      "outputs": [],
      "source": [
        "z_dim = 100\n",
        "device = torch.device(\"cuda\" if torch.cuda.is_available() else \"cpu\")\n",
        "\n",
        "G = ConditionalGenerator(z_dim=z_dim).to(device)\n",
        "D = ConditionalDiscriminator().to(device)\n",
        "\n",
        "opt_G = torch.optim.RMSprop(G.parameters(), lr=2e-4, weight_decay=1e-5)\n",
        "opt_D = torch.optim.RMSprop(D.parameters(), lr=2e-4, weight_decay=1e-5)"
      ]
    },
    {
      "cell_type": "code",
      "execution_count": null,
      "metadata": {
        "colab": {
          "base_uri": "https://localhost:8080/"
        },
        "id": "D6-wGbfKCFNd",
        "outputId": "c63f7681-7cba-4862-ced5-65e9391439dd"
      },
      "outputs": [],
      "source": [
        "criterion = nn.BCEWithLogitsLoss()\n",
        "epochs = 10\n",
        "\n",
        "G.train()\n",
        "D.train()\n",
        "\n",
        "for epoch in range(epochs):\n",
        "    loop = tqdm(train_loader, desc=f\"RMSprop+BCE Epoch {epoch+1}/{epochs}\")\n",
        "\n",
        "    for real_images, labels in loop:\n",
        "        batch_size = real_images.size(0)\n",
        "        real_images = real_images.to(device)\n",
        "        labels = labels.to(device)\n",
        "\n",
        "        z = torch.randn(batch_size, z_dim).to(device)\n",
        "        fake_images = G(z, labels)\n",
        "\n",
        "        real_labels = torch.ones(batch_size, 1).to(device)\n",
        "        fake_labels = torch.zeros(batch_size, 1).to(device)\n",
        "\n",
        "        D_real = D(real_images, labels)\n",
        "        D_fake = D(fake_images.detach(), labels)\n",
        "\n",
        "        loss_real = criterion(D_real, real_labels)\n",
        "        loss_fake = criterion(D_fake, fake_labels)\n",
        "        loss_D = loss_real + loss_fake\n",
        "\n",
        "        D.zero_grad()\n",
        "        loss_D.backward()\n",
        "        torch.nn.utils.clip_grad_norm_(D.parameters(), max_norm=1.0)\n",
        "        opt_D.step()\n",
        "\n",
        "        z = torch.randn(batch_size, z_dim).to(device)\n",
        "        fake_images = G(z, labels)\n",
        "        D_fake_pred = D(fake_images, labels)\n",
        "\n",
        "        loss_G = criterion(D_fake_pred, real_labels)\n",
        "\n",
        "        G.zero_grad()\n",
        "        loss_G.backward()\n",
        "        torch.nn.utils.clip_grad_norm_(G.parameters(), max_norm=1.0)\n",
        "        opt_G.step()\n",
        "\n",
        "        loop.set_postfix({\n",
        "            \"D_loss\": loss_D.item(),\n",
        "            \"G_loss\": loss_G.item()\n",
        "        })\n"
      ]
    },
    {
      "cell_type": "code",
      "execution_count": 16,
      "metadata": {
        "id": "pNNtsrsaCHHE"
      },
      "outputs": [],
      "source": [
        "label_names = {\n",
        "    0: \"CIFAR_Airplane_gan_03\",\n",
        "    1: \"CIFAR_Automobile_gan_03\",\n",
        "    2: \"CIFAR_Truck_gan_03\"\n",
        "}\n",
        "\n",
        "with torch.no_grad():\n",
        "    for class_idx in range(3):\n",
        "        folder_path = os.path.join(base_dir, label_names[class_idx])\n",
        "        os.makedirs(folder_path, exist_ok=True)\n",
        "\n",
        "        labels = torch.full((30,), class_idx, device=device, dtype=torch.long)\n",
        "        z = torch.randn(30, z_dim).to(device)\n",
        "        imgs = G(z, labels)\n",
        "\n",
        "        for i, img in enumerate(imgs):\n",
        "            img = (img * 0.5 + 0.5).clamp(0, 1)\n",
        "            img_path = os.path.join(folder_path, f\"{label_names[class_idx].lower()}_{i:02d}.png\")\n",
        "            transforms.ToPILImage()(img.cpu()).save(img_path)"
      ]
    }
  ],
  "metadata": {
    "accelerator": "GPU",
    "colab": {
      "gpuType": "T4",
      "provenance": []
    },
    "kernelspec": {
      "display_name": "Python 3",
      "name": "python3"
    },
    "language_info": {
      "name": "python"
    }
  },
  "nbformat": 4,
  "nbformat_minor": 0
}
