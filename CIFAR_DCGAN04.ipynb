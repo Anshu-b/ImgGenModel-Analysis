{
  "nbformat": 4,
  "nbformat_minor": 0,
  "metadata": {
    "colab": {
      "provenance": [],
      "gpuType": "T4"
    },
    "kernelspec": {
      "name": "python3",
      "display_name": "Python 3"
    },
    "language_info": {
      "name": "python"
    },
    "accelerator": "GPU"
  },
  "cells": [
    {
      "cell_type": "markdown",
      "source": [
        "# DCGAN / RMSprop Optimizer, Hinge Loss"
      ],
      "metadata": {
        "id": "nLXwZ1zV4ws0"
      }
    },
    {
      "cell_type": "code",
      "source": [
        "!pip install torch torchvision matplotlib tqdm --quiet"
      ],
      "metadata": {
        "id": "8d5NXbcf_iEt",
        "colab": {
          "base_uri": "https://localhost:8080/"
        },
        "outputId": "31a66393-d7c0-4467-d2ab-6add59125ee5"
      },
      "execution_count": 1,
      "outputs": [
        {
          "output_type": "stream",
          "name": "stdout",
          "text": [
            "\u001b[2K   \u001b[90m━━━━━━━━━━━━━━━━━━━━━━━━━━━━━━━━━━━━━━━━\u001b[0m \u001b[32m363.4/363.4 MB\u001b[0m \u001b[31m4.0 MB/s\u001b[0m eta \u001b[36m0:00:00\u001b[0m\n",
            "\u001b[2K   \u001b[90m━━━━━━━━━━━━━━━━━━━━━━━━━━━━━━━━━━━━━━━━\u001b[0m \u001b[32m13.8/13.8 MB\u001b[0m \u001b[31m79.2 MB/s\u001b[0m eta \u001b[36m0:00:00\u001b[0m\n",
            "\u001b[2K   \u001b[90m━━━━━━━━━━━━━━━━━━━━━━━━━━━━━━━━━━━━━━━━\u001b[0m \u001b[32m24.6/24.6 MB\u001b[0m \u001b[31m65.9 MB/s\u001b[0m eta \u001b[36m0:00:00\u001b[0m\n",
            "\u001b[2K   \u001b[90m━━━━━━━━━━━━━━━━━━━━━━━━━━━━━━━━━━━━━━━━\u001b[0m \u001b[32m883.7/883.7 kB\u001b[0m \u001b[31m49.1 MB/s\u001b[0m eta \u001b[36m0:00:00\u001b[0m\n",
            "\u001b[2K   \u001b[90m━━━━━━━━━━━━━━━━━━━━━━━━━━━━━━━━━━━━━━━━\u001b[0m \u001b[32m664.8/664.8 MB\u001b[0m \u001b[31m2.0 MB/s\u001b[0m eta \u001b[36m0:00:00\u001b[0m\n",
            "\u001b[2K   \u001b[90m━━━━━━━━━━━━━━━━━━━━━━━━━━━━━━━━━━━━━━━━\u001b[0m \u001b[32m211.5/211.5 MB\u001b[0m \u001b[31m5.3 MB/s\u001b[0m eta \u001b[36m0:00:00\u001b[0m\n",
            "\u001b[2K   \u001b[90m━━━━━━━━━━━━━━━━━━━━━━━━━━━━━━━━━━━━━━━━\u001b[0m \u001b[32m56.3/56.3 MB\u001b[0m \u001b[31m14.8 MB/s\u001b[0m eta \u001b[36m0:00:00\u001b[0m\n",
            "\u001b[2K   \u001b[90m━━━━━━━━━━━━━━━━━━━━━━━━━━━━━━━━━━━━━━━━\u001b[0m \u001b[32m127.9/127.9 MB\u001b[0m \u001b[31m7.4 MB/s\u001b[0m eta \u001b[36m0:00:00\u001b[0m\n",
            "\u001b[2K   \u001b[90m━━━━━━━━━━━━━━━━━━━━━━━━━━━━━━━━━━━━━━━━\u001b[0m \u001b[32m207.5/207.5 MB\u001b[0m \u001b[31m5.6 MB/s\u001b[0m eta \u001b[36m0:00:00\u001b[0m\n",
            "\u001b[2K   \u001b[90m━━━━━━━━━━━━━━━━━━━━━━━━━━━━━━━━━━━━━━━━\u001b[0m \u001b[32m21.1/21.1 MB\u001b[0m \u001b[31m55.1 MB/s\u001b[0m eta \u001b[36m0:00:00\u001b[0m\n",
            "\u001b[?25h"
          ]
        }
      ]
    },
    {
      "cell_type": "code",
      "source": [
        "from google.colab import drive\n",
        "drive.mount('/content/drive')"
      ],
      "metadata": {
        "colab": {
          "base_uri": "https://localhost:8080/"
        },
        "id": "jnOAHnAAHrOj",
        "outputId": "c02d2a6e-1676-4c4c-e9cc-2b8ecca88769"
      },
      "execution_count": 2,
      "outputs": [
        {
          "output_type": "stream",
          "name": "stdout",
          "text": [
            "Mounted at /content/drive\n"
          ]
        }
      ]
    },
    {
      "cell_type": "code",
      "source": [
        "base_dir = \"/content/drive/MyDrive/Cogs185/CIFAR-DCGAN-4\"\n",
        "#os.makedirs(base_dir, exist_ok=True)"
      ],
      "metadata": {
        "id": "kPAtjeZmIBRX"
      },
      "execution_count": 3,
      "outputs": []
    },
    {
      "cell_type": "code",
      "source": [
        "import torch\n",
        "import torch.nn as nn\n",
        "import torch.nn.functional as F\n",
        "import torch.optim as optim\n",
        "from torchvision import datasets, transforms\n",
        "from torch.utils.data import Dataset, DataLoader, Subset\n",
        "import torchvision.utils as vutils\n",
        "import numpy as np\n",
        "import os\n",
        "from tqdm import tqdm\n",
        "from PIL import Image\n",
        "from torch.nn.utils import spectral_norm"
      ],
      "metadata": {
        "id": "tSrmNo4p_rwE"
      },
      "execution_count": 4,
      "outputs": []
    },
    {
      "cell_type": "code",
      "source": [
        "def one_hot(labels, num_classes=3):\n",
        "    return F.one_hot(labels, num_classes).float()"
      ],
      "metadata": {
        "id": "El9hIKZv__oc"
      },
      "execution_count": 5,
      "outputs": []
    },
    {
      "cell_type": "code",
      "source": [
        "class ConditionalGenerator(nn.Module):\n",
        "    def __init__(self, z_dim=100, num_classes=3, img_channels=3, feature_maps=128):\n",
        "        super().__init__()\n",
        "        self.input_dim = z_dim + num_classes\n",
        "\n",
        "        self.gen = nn.Sequential(\n",
        "            nn.ConvTranspose2d(self.input_dim, feature_maps * 8, 4, 1, 0, bias=False),\n",
        "            nn.BatchNorm2d(feature_maps * 8),\n",
        "            nn.ReLU(True),\n",
        "\n",
        "            nn.ConvTranspose2d(feature_maps * 8, feature_maps * 4, 4, 2, 1, bias=False),\n",
        "            nn.BatchNorm2d(feature_maps * 4),\n",
        "            nn.ReLU(True),\n",
        "\n",
        "            nn.ConvTranspose2d(feature_maps * 4, feature_maps * 2, 4, 2, 1, bias=False),\n",
        "            nn.BatchNorm2d(feature_maps * 2),\n",
        "            nn.ReLU(True),\n",
        "\n",
        "            nn.ConvTranspose2d(feature_maps * 2, feature_maps, 4, 2, 1, bias=False),\n",
        "            nn.BatchNorm2d(feature_maps),\n",
        "            nn.ReLU(True),\n",
        "\n",
        "            nn.ConvTranspose2d(feature_maps, img_channels, 4, 2, 1, bias=False),\n",
        "            nn.Tanh()\n",
        "        )\n",
        "\n",
        "    def forward(self, z, labels):\n",
        "        one_hot_labels = one_hot(labels, 3).to(z.device)\n",
        "        x = torch.cat([z, one_hot_labels], dim=1)\n",
        "        x = x.view(x.size(0), -1, 1, 1)\n",
        "        return self.gen(x)"
      ],
      "metadata": {
        "id": "ZI_9nXkwB8us"
      },
      "execution_count": 6,
      "outputs": []
    },
    {
      "cell_type": "code",
      "source": [
        "class ConditionalDiscriminator(nn.Module):\n",
        "    def __init__(self, img_channels=3, num_classes=3, feature_maps=128):\n",
        "        super().__init__()\n",
        "        self.label_embed = nn.Embedding(num_classes, num_classes)\n",
        "\n",
        "        self.disc = nn.Sequential(\n",
        "            spectral_norm(nn.Conv2d(img_channels + num_classes, feature_maps, 4, 2, 1)),\n",
        "            nn.LeakyReLU(0.2),\n",
        "\n",
        "            spectral_norm(nn.Conv2d(feature_maps, feature_maps * 2, 4, 2, 1)),\n",
        "            nn.LeakyReLU(0.2),\n",
        "\n",
        "            spectral_norm(nn.Conv2d(feature_maps * 2, feature_maps * 4, 4, 2, 1)),\n",
        "            nn.LeakyReLU(0.2),\n",
        "\n",
        "            spectral_norm(nn.Conv2d(feature_maps * 4, 1, 4, 1, 0)),\n",
        "            nn.Flatten()\n",
        "        )\n",
        "\n",
        "    def forward(self, x, labels):\n",
        "        label_map = self.label_embed(labels).unsqueeze(2).unsqueeze(3)\n",
        "        label_map = label_map.expand(-1, -1, x.size(2), x.size(3))\n",
        "        x = torch.cat([x, label_map], dim=1)\n",
        "        return self.disc(x)"
      ],
      "metadata": {
        "id": "g8sdiTZWB-A0"
      },
      "execution_count": 7,
      "outputs": []
    },
    {
      "cell_type": "code",
      "source": [
        "transform = transforms.Compose([\n",
        "    transforms.Resize(64),\n",
        "    transforms.ToTensor(),\n",
        "    transforms.Normalize((0.5,), (0.5,))\n",
        "])\n",
        "\n",
        "wanted_labels = [0, 1, 9]\n",
        "label_map = {0: 0, 1: 1, 9: 2}\n",
        "\n",
        "raw_data = datasets.CIFAR10(root=\"./data\", download=True, transform=transform)\n",
        "filtered_indices = [i for i, (_, label) in enumerate(raw_data) if label in wanted_labels]\n",
        "\n",
        "class RelabeledCIFAR(Dataset):\n",
        "    def __init__(self, base, indices):\n",
        "        self.data = Subset(base, indices)\n",
        "        self.targets = []\n",
        "        for i in indices:\n",
        "            original_label = base.targets[i]\n",
        "            self.targets.append(label_map[original_label])\n",
        "\n",
        "    def __len__(self):\n",
        "        return len(self.targets)\n",
        "\n",
        "    def __getitem__(self, idx):\n",
        "        img, _ = self.data[idx]\n",
        "        return img, torch.tensor(self.targets[idx])\n",
        "\n",
        "train_loader = DataLoader(RelabeledCIFAR(raw_data, filtered_indices), batch_size=128, shuffle=True)"
      ],
      "metadata": {
        "id": "INPTiGIJB_yt",
        "colab": {
          "base_uri": "https://localhost:8080/"
        },
        "outputId": "a36c32b7-28fe-4ee4-acca-513536292616"
      },
      "execution_count": 8,
      "outputs": [
        {
          "output_type": "stream",
          "name": "stderr",
          "text": [
            "100%|██████████| 170M/170M [00:05<00:00, 31.1MB/s]\n"
          ]
        }
      ]
    },
    {
      "cell_type": "code",
      "source": [
        "z_dim = 100\n",
        "device = torch.device(\"cuda\" if torch.cuda.is_available() else \"cpu\")\n",
        "\n",
        "G = ConditionalGenerator(z_dim=z_dim).to(device)\n",
        "D = ConditionalDiscriminator().to(device)\n",
        "\n",
        "opt_G = torch.optim.RMSprop(G.parameters(), lr=2e-4, weight_decay=1e-5)\n",
        "opt_D = torch.optim.RMSprop(D.parameters(), lr=2e-4, weight_decay=1e-5)"
      ],
      "metadata": {
        "id": "VS3WIzVzCCJ7"
      },
      "execution_count": 9,
      "outputs": []
    },
    {
      "cell_type": "code",
      "source": [
        "epochs = 10\n",
        "\n",
        "G.train()\n",
        "D.train()\n",
        "\n",
        "for epoch in range(epochs):\n",
        "    loop = tqdm(train_loader, desc=f\"[RMSprop+Hinge] Epoch {epoch+1}/{epochs}\")\n",
        "\n",
        "    for real_images, labels in loop:\n",
        "        batch_size = real_images.size(0)\n",
        "        real_images = real_images.to(device)\n",
        "        labels = labels.to(device)\n",
        "\n",
        "        z = torch.randn(batch_size, z_dim).to(device)\n",
        "        fake_images = G(z, labels)\n",
        "\n",
        "        D_real = D(real_images, labels)\n",
        "        D_fake = D(fake_images.detach(), labels)\n",
        "\n",
        "        loss_D_real = F.relu(1.0 - D_real).mean()\n",
        "        loss_D_fake = F.relu(1.0 + D_fake).mean()\n",
        "        loss_D = loss_D_real + loss_D_fake\n",
        "\n",
        "        D.zero_grad()\n",
        "        loss_D.backward()\n",
        "        torch.nn.utils.clip_grad_norm_(D.parameters(), max_norm=1.0)\n",
        "        opt_D.step()\n",
        "\n",
        "        z = torch.randn(batch_size, z_dim).to(device)\n",
        "        fake_images = G(z, labels)\n",
        "        D_fake_pred = D(fake_images, labels)\n",
        "\n",
        "        loss_G = -D_fake_pred.mean()\n",
        "\n",
        "        G.zero_grad()\n",
        "        loss_G.backward()\n",
        "        torch.nn.utils.clip_grad_norm_(G.parameters(), max_norm=1.0)\n",
        "        opt_G.step()\n",
        "\n",
        "        loop.set_postfix({\n",
        "            \"D_loss\": loss_D.item(),\n",
        "            \"G_loss\": loss_G.item()\n",
        "        })"
      ],
      "metadata": {
        "colab": {
          "base_uri": "https://localhost:8080/"
        },
        "id": "D6-wGbfKCFNd",
        "outputId": "1a03081c-1351-42b1-97f0-87137813ed05"
      },
      "execution_count": 10,
      "outputs": [
        {
          "output_type": "stream",
          "name": "stderr",
          "text": [
            "[RMSprop+Hinge] Epoch 1/10: 100%|██████████| 118/118 [00:51<00:00,  2.29it/s, D_loss=1.8, G_loss=0.345]\n",
            "[RMSprop+Hinge] Epoch 2/10: 100%|██████████| 118/118 [00:51<00:00,  2.31it/s, D_loss=1.81, G_loss=-0.423]\n",
            "[RMSprop+Hinge] Epoch 3/10: 100%|██████████| 118/118 [00:54<00:00,  2.18it/s, D_loss=1.97, G_loss=-0.0908]\n",
            "[RMSprop+Hinge] Epoch 4/10: 100%|██████████| 118/118 [00:53<00:00,  2.21it/s, D_loss=1.91, G_loss=0.176]\n",
            "[RMSprop+Hinge] Epoch 5/10: 100%|██████████| 118/118 [00:53<00:00,  2.20it/s, D_loss=1.98, G_loss=0.308]\n",
            "[RMSprop+Hinge] Epoch 6/10: 100%|██████████| 118/118 [00:53<00:00,  2.20it/s, D_loss=1.95, G_loss=0.365]\n",
            "[RMSprop+Hinge] Epoch 7/10: 100%|██████████| 118/118 [00:53<00:00,  2.20it/s, D_loss=1.99, G_loss=0.191]\n",
            "[RMSprop+Hinge] Epoch 8/10: 100%|██████████| 118/118 [00:53<00:00,  2.21it/s, D_loss=1.94, G_loss=0.092]\n",
            "[RMSprop+Hinge] Epoch 9/10: 100%|██████████| 118/118 [00:53<00:00,  2.20it/s, D_loss=1.96, G_loss=0.161]\n",
            "[RMSprop+Hinge] Epoch 10/10: 100%|██████████| 118/118 [00:53<00:00,  2.20it/s, D_loss=2.02, G_loss=0.0836]\n"
          ]
        }
      ]
    },
    {
      "cell_type": "code",
      "source": [
        "label_names = {\n",
        "    0: \"CIFAR_Airplane_gan_04\",\n",
        "    1: \"CIFAR_Automobile_gan_04\",\n",
        "    2: \"CIFAR_Truck_gan_04\"\n",
        "}\n",
        "\n",
        "with torch.no_grad():\n",
        "    for class_idx in range(3):\n",
        "        folder_path = os.path.join(base_dir, label_names[class_idx])\n",
        "        os.makedirs(folder_path, exist_ok=True)\n",
        "\n",
        "        labels = torch.full((30,), class_idx, device=device, dtype=torch.long)\n",
        "        z = torch.randn(30, z_dim).to(device)\n",
        "        imgs = G(z, labels)\n",
        "\n",
        "        for i, img in enumerate(imgs):\n",
        "            img = (img * 0.5 + 0.5).clamp(0, 1)\n",
        "            img_path = os.path.join(folder_path, f\"{label_names[class_idx].lower()}_{i:02d}.png\")\n",
        "            transforms.ToPILImage()(img.cpu()).save(img_path)"
      ],
      "metadata": {
        "id": "pNNtsrsaCHHE"
      },
      "execution_count": 11,
      "outputs": []
    }
  ]
}